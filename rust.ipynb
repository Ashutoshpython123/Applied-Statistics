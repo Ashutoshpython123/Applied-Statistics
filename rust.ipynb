{
  "nbformat": 4,
  "nbformat_minor": 0,
  "metadata": {
    "colab": {
      "name": "rust.ipynb",
      "provenance": [],
      "collapsed_sections": [],
      "include_colab_link": true
    },
    "kernelspec": {
      "name": "rust",
      "display_name": "Rust"
    }
  },
  "cells": [
    {
      "cell_type": "markdown",
      "metadata": {
        "id": "view-in-github",
        "colab_type": "text"
      },
      "source": [
        "<a href=\"https://colab.research.google.com/github/Ashutoshpython123/Applied-Statistics/blob/main/rust.ipynb\" target=\"_parent\"><img src=\"https://colab.research.google.com/assets/colab-badge.svg\" alt=\"Open In Colab\"/></a>"
      ]
    },
    {
      "cell_type": "code",
      "metadata": {
        "id": "p--wYZ2QwcgN",
        "colab": {
          "base_uri": "https://localhost:8080/"
        },
        "outputId": "65d4d7bd-218f-44d1-866c-21414ca38cee"
      },
      "source": [
        "# run this once, then reload, and then skip this\n",
        "!apt install rustc\n",
        "!gdown --id 1PULtTc-2e9z4bswh_SQqL5oy_4JpfV7c\n",
        "!chmod +x evcxr_jupyter\n",
        "!./evcxr_jupyter --install"
      ],
      "execution_count": 3,
      "outputs": [
        {
          "output_type": "stream",
          "name": "stdout",
          "text": [
            "Reading package lists... Done\n",
            "Building dependency tree       \n",
            "Reading state information... Done\n",
            "The following package was automatically installed and is no longer required:\n",
            "  libnvidia-common-460\n",
            "Use 'apt autoremove' to remove it.\n",
            "The following additional packages will be installed:\n",
            "  libstd-rust-1.59 libstd-rust-dev\n",
            "Suggested packages:\n",
            "  cargo lld-13 clang-13\n",
            "Recommended packages:\n",
            "  llvm-13\n",
            "The following NEW packages will be installed:\n",
            "  libstd-rust-1.59 libstd-rust-dev rustc\n",
            "0 upgraded, 3 newly installed, 0 to remove and 49 not upgraded.\n",
            "Need to get 75.4 MB of archives.\n",
            "After this operation, 345 MB of additional disk space will be used.\n",
            "Get:1 http://archive.ubuntu.com/ubuntu bionic-updates/universe amd64 libstd-rust-1.59 amd64 1.59.0+dfsg1~ubuntu1~llvm-1~ubuntu1~18.04.2 [38.6 MB]\n",
            "Get:2 http://archive.ubuntu.com/ubuntu bionic-updates/universe amd64 libstd-rust-dev amd64 1.59.0+dfsg1~ubuntu1~llvm-1~ubuntu1~18.04.2 [33.4 MB]\n",
            "Get:3 http://archive.ubuntu.com/ubuntu bionic-updates/universe amd64 rustc amd64 1.59.0+dfsg1~ubuntu1~llvm-1~ubuntu1~18.04.2 [3,424 kB]\n",
            "Fetched 75.4 MB in 5s (15.7 MB/s)\n",
            "Selecting previously unselected package libstd-rust-1.59:amd64.\n",
            "(Reading database ... 155639 files and directories currently installed.)\n",
            "Preparing to unpack .../libstd-rust-1.59_1.59.0+dfsg1~ubuntu1~llvm-1~ubuntu1~18.04.2_amd64.deb ...\n",
            "Unpacking libstd-rust-1.59:amd64 (1.59.0+dfsg1~ubuntu1~llvm-1~ubuntu1~18.04.2) ...\n",
            "Selecting previously unselected package libstd-rust-dev:amd64.\n",
            "Preparing to unpack .../libstd-rust-dev_1.59.0+dfsg1~ubuntu1~llvm-1~ubuntu1~18.04.2_amd64.deb ...\n",
            "Unpacking libstd-rust-dev:amd64 (1.59.0+dfsg1~ubuntu1~llvm-1~ubuntu1~18.04.2) ...\n",
            "Selecting previously unselected package rustc.\n",
            "Preparing to unpack .../rustc_1.59.0+dfsg1~ubuntu1~llvm-1~ubuntu1~18.04.2_amd64.deb ...\n",
            "Unpacking rustc (1.59.0+dfsg1~ubuntu1~llvm-1~ubuntu1~18.04.2) ...\n",
            "Setting up libstd-rust-1.59:amd64 (1.59.0+dfsg1~ubuntu1~llvm-1~ubuntu1~18.04.2) ...\n",
            "Setting up libstd-rust-dev:amd64 (1.59.0+dfsg1~ubuntu1~llvm-1~ubuntu1~18.04.2) ...\n",
            "Setting up rustc (1.59.0+dfsg1~ubuntu1~llvm-1~ubuntu1~18.04.2) ...\n",
            "Processing triggers for man-db (2.8.3-2ubuntu0.1) ...\n",
            "/usr/local/lib/python3.7/dist-packages/gdown/cli.py:131: FutureWarning: Option `--id` was deprecated in version 4.3.1 and will be removed in 5.0. You don't need to pass it anymore to use a file ID.\n",
            "  category=FutureWarning,\n",
            "Downloading...\n",
            "From: https://drive.google.com/uc?id=1PULtTc-2e9z4bswh_SQqL5oy_4JpfV7c\n",
            "To: /content/evcxr_jupyter\n",
            "100% 4.76M/4.76M [00:00<00:00, 89.4MB/s]\n",
            "Writing /root/.local/share/jupyter/kernels/rust/kernel.json\n",
            "Writing /root/.local/share/jupyter/kernels/rust/logo-32x32.png\n",
            "Writing /root/.local/share/jupyter/kernels/rust/logo-64x64.png\n",
            "Writing /root/.local/share/jupyter/kernels/rust/logo-LICENSE.md\n",
            "Installation complete\n"
          ]
        }
      ]
    },
    {
      "cell_type": "code",
      "metadata": {
        "id": "w1vDka50zZnA",
        "outputId": "9e3459a1-9b25-4c85-bd46-e8dc4d008fb6",
        "colab": {
          "base_uri": "https://localhost:8080/",
          "height": 34
        }
      },
      "source": [
        "println!(\"Hello, world!\");"
      ],
      "execution_count": null,
      "outputs": [
        {
          "output_type": "stream",
          "text": [
            "Hello, world!\n"
          ],
          "name": "stdout"
        }
      ]
    },
    {
      "cell_type": "code",
      "metadata": {
        "id": "U0WiEMwNSWV6",
        "colab": {
          "base_uri": "https://localhost:8080/",
          "height": 130
        },
        "outputId": "3b83fa59-09a0-4588-872d-4bcaaebca582"
      },
      "source": [
        "// install a library for calling shell command\n",
        ":dep cmd_lib\n",
        "use cmd_lib::run_cmd as sh;"
      ],
      "execution_count": 1,
      "outputs": [
        {
          "output_type": "error",
          "ename": "SyntaxError",
          "evalue": "ignored",
          "traceback": [
            "\u001b[0;36m  File \u001b[0;32m\"<ipython-input-1-df54cfe8b13d>\"\u001b[0;36m, line \u001b[0;32m1\u001b[0m\n\u001b[0;31m    (/, install, a, library, for, calling, shell, command)\u001b[0m\n\u001b[0m     ^\u001b[0m\n\u001b[0;31mSyntaxError\u001b[0m\u001b[0;31m:\u001b[0m invalid syntax\n"
          ]
        }
      ]
    },
    {
      "cell_type": "code",
      "metadata": {
        "id": "S8Bn2i_9SrxB",
        "colab": {
          "base_uri": "https://localhost:8080/",
          "height": 130
        },
        "outputId": "5677d651-c759-4b0d-fd48-057d9f886a6a"
      },
      "source": [
        "sh!(ls -al)"
      ],
      "execution_count": 2,
      "outputs": [
        {
          "output_type": "error",
          "ename": "SyntaxError",
          "evalue": "ignored",
          "traceback": [
            "\u001b[0;36m  File \u001b[0;32m\"<ipython-input-2-f51e27b24933>\"\u001b[0;36m, line \u001b[0;32m1\u001b[0m\n\u001b[0;31m    sh!(ls -al)\u001b[0m\n\u001b[0m      ^\u001b[0m\n\u001b[0;31mSyntaxError\u001b[0m\u001b[0;31m:\u001b[0m invalid syntax\n"
          ]
        }
      ]
    }
  ]
}